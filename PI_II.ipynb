{
  "cells": [
    {
      "cell_type": "markdown",
      "metadata": {
        "id": "view-in-github",
        "colab_type": "text"
      },
      "source": [
        "<a href=\"https://colab.research.google.com/github/asepulvede/Parallel-Batch-Processing-Machine/blob/main/PI_II.ipynb\" target=\"_parent\"><img src=\"https://colab.research.google.com/assets/colab-badge.svg\" alt=\"Open In Colab\"/></a>"
      ]
    },
    {
      "cell_type": "code",
      "execution_count": null,
      "metadata": {
        "colab": {
          "base_uri": "https://localhost:8080/"
        },
        "id": "xH3geF_NGIru",
        "outputId": "b3b07a10-6d77-48ed-d746-6513ceced858"
      },
      "outputs": [
        {
          "output_type": "stream",
          "name": "stdout",
          "text": [
            "Looking in indexes: https://pypi.org/simple, https://us-python.pkg.dev/colab-wheels/public/simple/\n",
            "Requirement already satisfied: tqdm in /usr/local/lib/python3.7/dist-packages (4.64.1)\n"
          ]
        }
      ],
      "source": [
        "!pip install tqdm"
      ]
    },
    {
      "cell_type": "code",
      "execution_count": null,
      "metadata": {
        "id": "R0rRM7hsYZBY"
      },
      "outputs": [],
      "source": [
        "#Importe de las librerías requeridas\n",
        "import copy\n",
        "import numpy as np\n",
        "import random\n",
        "import math\n",
        "import pandas as pd\n",
        "from tqdm import tqdm\n",
        "from random import sample"
      ]
    },
    {
      "cell_type": "code",
      "execution_count": null,
      "metadata": {
        "id": "7-fDX7BcZf7r"
      },
      "outputs": [],
      "source": [
        "#Lectura de los datos\n",
        "with open('bp50-03.txt','r') as f:\n",
        "  data=[[num for num in line.split(' ')] for line in f]\n",
        "indexes_to_be_removed = [0, 1,3, len(data)-2]\n",
        "data=[data[i] for i in range(len(data)) if i not in indexes_to_be_removed ]\n",
        "data=[[int(num) for num in lista] for lista in data]\n",
        "infoJobs=data.pop(0)\n",
        "maq=data.pop(len(data)-1)\n",
        "jobs=data"
      ]
    },
    {
      "cell_type": "code",
      "execution_count": null,
      "metadata": {
        "id": "iEige-0qoHAM"
      },
      "outputs": [],
      "source": [
        "numMaq=2"
      ]
    },
    {
      "cell_type": "code",
      "execution_count": null,
      "metadata": {
        "id": "irKjykxgQ-Wq"
      },
      "outputs": [],
      "source": [
        "#Primer paso: Se ordenan las tareas de forma ascendente respecto R_i\n",
        "jOrd=sorted(jobs, key=lambda x: x[1])\n",
        "seq= [i[0] for i in jOrd]"
      ]
    },
    {
      "cell_type": "code",
      "execution_count": null,
      "metadata": {
        "id": "Z5tx_tpiVwJp"
      },
      "outputs": [],
      "source": [
        "#Función auxiliar que calcula la función objetivo del problema\n",
        "def funObj(lista,jobs):\n",
        "  ter= jobs[lista[0]-1][1]+jobs[lista[0]-1][3]\n",
        "  for i in range(1, len(lista)):\n",
        "    if ter>=jobs[lista[i]-1][1]:\n",
        "      ter=ter+jobs[lista[i]-1][3]\n",
        "    else:\n",
        "      ter=jobs[lista[i]-1][1]+jobs[lista[i]-1][3]\n",
        "  return ter"
      ]
    },
    {
      "cell_type": "code",
      "execution_count": null,
      "metadata": {
        "id": "9UMFyBLbYWDW"
      },
      "outputs": [],
      "source": [
        "#Función auxiliar que realiza las combinatorias de las tareas a realizar y retorna la mejor\n",
        "def combinatorias(ordenActual,nuevaT,jOrd,jobs):\n",
        "  mejorOrd=copy.deepcopy(ordenActual)\n",
        "  mejorOrd.insert(0,nuevaT)\n",
        "  mej=funObj(mejorOrd,jobs)\n",
        "  for i in range(1,len(ordenActual)+1):\n",
        "    combinacion=copy.deepcopy(ordenActual)\n",
        "    combinacion.insert(i,nuevaT)\n",
        "    funObjAc=funObj(combinacion,jobs)\n",
        "    if funObjAc<=mej:\n",
        "      mejorOrd=combinacion\n",
        "      mej=funObjAc\n",
        "  return mejorOrd,mej"
      ]
    },
    {
      "cell_type": "code",
      "execution_count": null,
      "metadata": {
        "id": "Y2_MSZtcuPKx"
      },
      "outputs": [],
      "source": [
        "#Método auxiliar que realiza la asignación de tareas y determina en qué máquina se realiza\n",
        "def asignacionT(jOrd,jobs):\n",
        "  tareas= [[],[]]\n",
        "  tareas[0].append(jOrd[0][0])\n",
        "  for i in range(1,len(jOrd)):\n",
        "    nuevaT= jOrd[i][0]\n",
        "    combiM1, funObjM1= combinatorias(tareas[0],nuevaT,jOrd,jobs)\n",
        "    combiM2, funObjM2= combinatorias(tareas[1],nuevaT,jOrd,jobs)\n",
        "    if funObjM1<= funObjM2:\n",
        "      tareas[0]= combiM1\n",
        "    else:\n",
        "      tareas[1]= combiM2\n",
        "\n",
        "  return tareas, max(funObj(tareas[0], jobs),funObj(tareas[1], jobs))"
      ]
    },
    {
      "cell_type": "markdown",
      "metadata": {
        "id": "k-R9lb-rxbXP"
      },
      "source": [
        "###Algoritmo profesor"
      ]
    },
    {
      "cell_type": "code",
      "execution_count": null,
      "metadata": {
        "id": "5IVW6B68iHsi"
      },
      "outputs": [],
      "source": [
        "def funObjOrden(batchesMaq, jobs):\n",
        "  term=0\n",
        "  for j in batchesMaq:\n",
        "    if len(j)==1:\n",
        "      if term>=jobs[j[0]-1][1]:\n",
        "        term += jobs[j[0]-1][3]\n",
        "      else: \n",
        "        term = jobs[j[0]-1][1]+jobs[j[0]-1][3]\n",
        "    else: \n",
        "      riBatchs= [jobs[k-1][1] for k in j]\n",
        "      diBatchs= [jobs[k-1][3] for k in j] \n",
        "      if term>= max(riBatchs):\n",
        "        term += max(riBatchs) \n",
        "      else: \n",
        "        term = max(riBatchs) + max(diBatchs)\n",
        "  return term"
      ]
    },
    {
      "cell_type": "code",
      "execution_count": null,
      "metadata": {
        "id": "G_ufFb2BvD-7"
      },
      "outputs": [],
      "source": [
        "def funObjCompleta(batchesM,jobs):\n",
        "  lista= [funObjOrden(batchesM[i], jobs) for i in range(len(batchesM))]\n",
        "  return lista, max(lista)"
      ]
    },
    {
      "cell_type": "code",
      "execution_count": null,
      "metadata": {
        "id": "sLzSJ6vaOqSc"
      },
      "outputs": [],
      "source": [
        "def split(jOrd,seq,numM):\n",
        "  tamaños=[line[2] for line in jOrd]\n",
        "  if numM==1:\n",
        "    ss=seq\n",
        "  else:\n",
        "    k=0\n",
        "    sP= np.cumsum(tamaños)\n",
        "    ss=[[] for i in range(numMaq)]\n",
        "    for i in range(len(seq)-numMaq):\n",
        "      if sP[i] >= int(sP[len(seq)-1]/numMaq):\n",
        "        ss[0]= seq[0:i]\n",
        "        k=i\n",
        "        break     \n",
        "    h=1\n",
        "    for i in range(k+1,len(seq)):\n",
        "      if h== numMaq-1:\n",
        "        break\n",
        "      if sP[i]-sP[k]>= int((sP[len(seq)-1]-sP[k])/(numMaq-h)):\n",
        "        ss[h] = seq[k:i+1]\n",
        "        h+=1\n",
        "        k=i  \n",
        "    ss[h] = seq[k:len(seq)]\n",
        "  return ss"
      ]
    },
    {
      "cell_type": "code",
      "execution_count": null,
      "metadata": {
        "id": "Q5SIRoPuyFOp"
      },
      "outputs": [],
      "source": [
        "def tiempoBatch(lista,jobs):\n",
        "  tInicio= [jobs[i-1][1] for i in lista]\n",
        "  duracion=[jobs[i-1][3] for i in lista]\n",
        "  return max(tInicio), max(duracion)"
      ]
    },
    {
      "cell_type": "code",
      "execution_count": null,
      "metadata": {
        "id": "NlmWXTr5sLDZ"
      },
      "outputs": [],
      "source": [
        "def batches(sec,jobs,maq):\n",
        "  batch=[sec[0]]\n",
        "  capB=jobs[sec[0]-1][2]\n",
        "  tIniB, dur=tiempoBatch(batch,jobs)\n",
        "  tProc= tIniB+dur\n",
        "  batches=[]\n",
        "  for i in range(1,len(sec)):\n",
        "    tAct=sec[i]\n",
        "    tProcAct=jobs[tAct-1][3]\n",
        "    tam=jobs[tAct-1][2]\n",
        "    tIniAct=jobs[tAct-1][1]\n",
        "    if capB+tam<=maq[1]:\n",
        "      if tProc+tProcAct>=max(tIniAct,tIniB) + max(tProcAct,dur):\n",
        "        batch.append(tAct)\n",
        "        capB+=tam\n",
        "        tProc=max(tIniAct,tIniB) + max(tProcAct,dur)\n",
        "        tIniB, dur=tiempoBatch(batch,jobs)\n",
        "        tProc= tIniB+dur\n",
        "      else:\n",
        "        batches.append(batch)\n",
        "        batch=[tAct]\n",
        "        capB=tam\n",
        "        tIniB,dur=tiempoBatch(batch,jobs)\n",
        "        tProc= tIniB+dur\n",
        "    else:\n",
        "      batches.append(batch)\n",
        "      batch=[tAct]\n",
        "      capB=tam\n",
        "      tIniB,dur=tiempoBatch(batch,jobs)\n",
        "      tProc= tIniB+dur\n",
        "  batches.append(batch)\n",
        "    \n",
        "  return batches"
      ]
    },
    {
      "cell_type": "code",
      "execution_count": null,
      "metadata": {
        "id": "i-mJnOkfDrT5",
        "colab": {
          "base_uri": "https://localhost:8080/"
        },
        "outputId": "161f66e7-f25e-4b5a-a55e-6b23ed4472e5"
      },
      "outputs": [
        {
          "output_type": "execute_result",
          "data": {
            "text/plain": [
              "([1788, 6897], 6897)"
            ]
          },
          "metadata": {},
          "execution_count": 121
        }
      ],
      "source": [
        "sec=split(jOrd,seq,numMaq)\n",
        "batchesMaq= [batches(sec[i],jobs,maq) for i in range(numMaq)]\n",
        "funObjCompleta(batchesMaq,jobs)"
      ]
    },
    {
      "cell_type": "markdown",
      "metadata": {
        "id": "cfrohoQ5p1ft"
      },
      "source": [
        "### Primero batches, luego máquinas"
      ]
    },
    {
      "cell_type": "code",
      "execution_count": null,
      "metadata": {
        "id": "l7bBiUoMQx1G"
      },
      "outputs": [],
      "source": [
        "def asignacionBatches(jobs,seq,numMaq):\n",
        "  batchesMaq= batches(seq,jobs,maq) \n",
        "  asignaciones=[[] for i in range(numMaq)]\n",
        "  asignaciones[0].append(batchesMaq[0])\n",
        "\n",
        "  for i in range(1, len(batchesMaq)):\n",
        "    aux= copy.deepcopy(asignaciones)\n",
        "    for j in aux:\n",
        "      j.append(batchesMaq[i])\n",
        "    funObjB, max= funObjCompleta(aux,jobs)\n",
        "    mejorOpcion= np.argmin(funObjB)\n",
        "    asignaciones[mejorOpcion]= aux[mejorOpcion]\n",
        "\n",
        "  funObjs, maxFunObj = funObjCompleta(asignaciones,jobs)\n",
        "  return asignaciones , funObjs, maxFunObj"
      ]
    },
    {
      "cell_type": "code",
      "source": [
        "_,_,f=asignacionBatches(jobs,seq,numMaq)\n",
        "f"
      ],
      "metadata": {
        "colab": {
          "base_uri": "https://localhost:8080/"
        },
        "id": "SwuPWfg5KjQT",
        "outputId": "ca1be5d0-5b5d-4f71-a3bc-3b3ef5660482"
      },
      "execution_count": null,
      "outputs": [
        {
          "output_type": "execute_result",
          "data": {
            "text/plain": [
              "4718"
            ]
          },
          "metadata": {},
          "execution_count": 125
        }
      ]
    },
    {
      "cell_type": "markdown",
      "metadata": {
        "id": "m9WlE5l4aVa7"
      },
      "source": [
        "#Soluciones aleatorias"
      ]
    },
    {
      "cell_type": "code",
      "execution_count": null,
      "metadata": {
        "id": "dmMFGhZYEH38"
      },
      "outputs": [],
      "source": [
        "def randomOrd(jobs):\n",
        " jobsP=copy.deepcopy(jobs)\n",
        " random.shuffle(jobsP)\n",
        " return jobsP"
      ]
    },
    {
      "cell_type": "code",
      "execution_count": null,
      "metadata": {
        "id": "t5X_RgYwcY7Q"
      },
      "outputs": [],
      "source": [
        "def ruidoOrd(jobs,a):\n",
        "  jobsP=copy.deepcopy(jobs)\n",
        "  for i in range(len(jobsP)):\n",
        "    jobsP[i][1]+=random.randint(-a, a)\n",
        "  jRu=sorted(jobsP, key=lambda x: x[1])\n",
        "  return jRu"
      ]
    },
    {
      "cell_type": "code",
      "execution_count": null,
      "metadata": {
        "colab": {
          "base_uri": "https://localhost:8080/"
        },
        "id": "W4UuweBujPY1",
        "outputId": "f28065e3-f558-4b7f-a73c-96c9b9ce4baf"
      },
      "outputs": [
        {
          "output_type": "stream",
          "name": "stdout",
          "text": [
            "[1881, 6850] 6850\n"
          ]
        }
      ],
      "source": [
        "sec1=split(randomOrd(jobs),seq,numMaq)\n",
        "batchesMaq1= [batches(sec1[i],jobs,maq) for i in range(len(sec1))]\n",
        "lista= [funObjOrden(batchesMaq1[i], jobs) for i in range(len(batchesMaq1))]\n",
        "print(lista, max(lista))"
      ]
    },
    {
      "cell_type": "code",
      "execution_count": null,
      "metadata": {
        "colab": {
          "base_uri": "https://localhost:8080/"
        },
        "id": "ioM8CJvJjfwh",
        "outputId": "835e8f97-64e4-4440-c9e1-2f1e68e82ef6"
      },
      "outputs": [
        {
          "output_type": "stream",
          "name": "stdout",
          "text": [
            "[1788, 6897] 6897\n"
          ]
        }
      ],
      "source": [
        "sec=split(jOrd,seq,numMaq)\n",
        "batchesMaq= [batches(sec[i],jobs,maq) for i in range(len(sec))]\n",
        "lista= [funObjOrden(batchesMaq[i], jobs) for i in range(len(batchesMaq))]\n",
        "print(lista, max(lista))"
      ]
    },
    {
      "cell_type": "code",
      "execution_count": null,
      "metadata": {
        "colab": {
          "base_uri": "https://localhost:8080/"
        },
        "id": "CcTZmOWyjQ1y",
        "outputId": "878d0d6d-cc00-4503-a3de-f13e8388e255"
      },
      "outputs": [
        {
          "output_type": "stream",
          "name": "stdout",
          "text": [
            "[1881, 6850] 6850\n"
          ]
        }
      ],
      "source": [
        "sec2=split(ruidoOrd(jobs,50),seq,numMaq)\n",
        "batchesMaq2= [batches(sec2[i],jobs,maq) for i in range(len(sec2))]\n",
        "lista= [funObjOrden(batchesMaq2[i], jobs) for i in range(len(batchesMaq2))]\n",
        "print(lista, max(lista))"
      ]
    },
    {
      "cell_type": "markdown",
      "metadata": {
        "id": "5AVeRFu5a79a"
      },
      "source": [
        "#Split Ana Maria"
      ]
    },
    {
      "cell_type": "code",
      "execution_count": null,
      "metadata": {
        "id": "VLGwPLdEbPlj",
        "colab": {
          "base_uri": "https://localhost:8080/"
        },
        "outputId": "f35c7453-acfc-478e-9b82-119b1186aa2d"
      },
      "outputs": [
        {
          "output_type": "execute_result",
          "data": {
            "text/plain": [
              "2186"
            ]
          },
          "metadata": {},
          "execution_count": 143
        }
      ],
      "source": [
        "def splitA(seq,jobs,maq):\n",
        "  sec= copy.deepcopy(seq)\n",
        "  sec.insert(0,0)\n",
        "  jobs_c= copy.deepcopy(jobs)\n",
        "  jobs_c.insert(0,[0,0,0,0])\n",
        "  n=len(sec)\n",
        "  V=[100000 for i in range(n)]\n",
        "  V[0]=0\n",
        "  I=np.zeros(n)\n",
        "\n",
        "  for i in range(n-1):\n",
        "    L,C,P,R=0,0,0,0\n",
        "    j=i\n",
        "    while j<n-1 and L+jobs_c[sec[j+1]][2]<=maq[1]:\n",
        "      \n",
        "      j+=1;\n",
        "      L+=jobs_c[sec[j]][2]\n",
        "      if P<jobs_c[sec[j]][3]:\n",
        "        P=jobs_c[sec[j]][3]\n",
        "      if R<jobs_c[sec[j]][1]:\n",
        "        R=jobs_c[sec[j]][1]\n",
        "      if R>V[i]:\n",
        "        C=R+P\n",
        "      else:\n",
        "        C=V[i]+P\n",
        "      if V[j]>C:\n",
        "         V[j]=C\n",
        "         I[j]=i\n",
        "         i=i\n",
        "  return V[-1],V,I\n",
        "In,_,I=splitA(seq,jobs,maq)\n",
        "In"
      ]
    },
    {
      "cell_type": "code",
      "execution_count": null,
      "metadata": {
        "id": "WLY5N-9Gx8PB"
      },
      "outputs": [],
      "source": [
        "def convertirB(I,seq):\n",
        "  colI=[int(x) for x in I]\n",
        "  coI= copy.deepcopy(colI)\n",
        "  coI.pop(0)\n",
        "  coI= np.array(coI)\n",
        "  seq=np.array(seq)\n",
        "  batches=[]\n",
        "  i= int(len(coI)-1)\n",
        "  while i>=0:\n",
        "    int(coI[i])\n",
        "    seq[coI[i]:i+1]\n",
        "    batches.append(list(seq[coI[i]:i+1]))\n",
        "    i=coI[i]-1 \n",
        "  return batches\n",
        "bat=convertirB(I,seq)"
      ]
    },
    {
      "cell_type": "code",
      "source": [
        "funObjOrden(bat,jobs)"
      ],
      "metadata": {
        "colab": {
          "base_uri": "https://localhost:8080/"
        },
        "id": "KFcTC1DiL35p",
        "outputId": "ce0ad389-85ff-40bf-9040-89f1fc02945b"
      },
      "execution_count": null,
      "outputs": [
        {
          "output_type": "execute_result",
          "data": {
            "text/plain": [
              "11048"
            ]
          },
          "metadata": {},
          "execution_count": 139
        }
      ]
    },
    {
      "cell_type": "code",
      "execution_count": null,
      "metadata": {
        "id": "_s9qTeVkJNJZ",
        "colab": {
          "base_uri": "https://localhost:8080/"
        },
        "outputId": "7a2bf7a5-369b-4f6d-8bd0-c1b5bcbffd74"
      },
      "outputs": [
        {
          "output_type": "execute_result",
          "data": {
            "text/plain": [
              "1697.0"
            ]
          },
          "metadata": {},
          "execution_count": 144
        }
      ],
      "source": [
        "def two_level_split(seq, jobs,numMaq,maq,UB):\n",
        "  V= [math.inf for i in range(len(seq)+1)]\n",
        "  W= [math.inf for i in range(len(seq)+1)]\n",
        "  V[0]=0\n",
        "  W[0]=0\n",
        "  C= np.ones((len(V),len(V)))*math.inf\n",
        "  np.fill_diagonal(C,0)\n",
        "  Ck= np.zeros((len(V),len(V)))\n",
        "  P = np.zeros((numMaq,len(seq)+1))\n",
        "  for k in range(1,numMaq+1):\n",
        "    i= k-1\n",
        "    while W[i] <= UB and i<len(seq):\n",
        "      for j in range(i+1,len(seq)+1):\n",
        "        if C[i][j-1] <= UB:\n",
        "          if Ck[i][j] == 0:\n",
        "             C[i][j],_,_ = splitA(seq[i:j],jobs,maq)\n",
        "             Ck[i][j] = 1\n",
        "          if max(W[i],C[i][j])<V[j]:\n",
        "              V[j]=max(W[i],C[i][j])\n",
        "              P[k-1][j] = i\n",
        "        else:\n",
        "          break\n",
        "      i+=1\n",
        "    for i in range(len(seq)+1):\n",
        "      W[i]=V[i]\n",
        "\n",
        "  return V[-1],P,V\n",
        "\n",
        "Vn,P,V=two_level_split(seq,jobs,numMaq,maq,5000)\n",
        "Vn"
      ]
    },
    {
      "cell_type": "code",
      "source": [
        "seq"
      ],
      "metadata": {
        "id": "CaVgZScxrIYH"
      },
      "execution_count": null,
      "outputs": []
    },
    {
      "cell_type": "code",
      "execution_count": null,
      "metadata": {
        "id": "nxp3ld39GllN"
      },
      "outputs": [],
      "source": [
        "def generateFunAleatorias(n,UB):\n",
        "  listSeq=[]\n",
        "  listFunObjs=[]\n",
        "  for i in tqdm(range(n)):\n",
        "    seqAl= randomOrd(seq)\n",
        "    listSeq.append(seqAl)\n",
        "    funObj,_,_= two_level_split(seqAl,jobs,numMaq,maq,UB)\n",
        "    # f,_,_ = splitA(seq,jobs,maq)\n",
        "    listFunObjs.append(funObj)\n",
        "  return listSeq,listFunObjs"
      ]
    },
    {
      "cell_type": "code",
      "execution_count": null,
      "metadata": {
        "id": "l19rsR9YJIYn"
      },
      "outputs": [],
      "source": [
        "def intercambioOrdenTareas(seq,funObj,numMejores,n,UB):\n",
        "\n",
        "  listSeq,listfunObjs= generateFunAleatorias(n,UB)\n",
        "  mejoresObj, mejoresSeq= zip(*sorted(zip(listfunObjs,listSeq))) \n",
        "\n",
        "  mejoresObj= list(mejoresObj)[0:numMejores]\n",
        "  mejoresSeq= list(mejoresSeq)[0:numMejores]\n",
        "\n",
        "  seqC= copy.deepcopy(seq)\n",
        "\n",
        "  for i in tqdm(range(len(mejoresSeq))):\n",
        "    for j in range(len(seqC)):\n",
        "      index= seqC.index(mejoresSeq[i][j])\n",
        "      seqC[j]= seq[index]\n",
        "      seqC[index]= seq[j]\n",
        "      f,_,_ = two_level_split(seqC,jobs,numMaq,maq,UB)\n",
        "      # f,_,_ = splitA(seq,jobs,maq)\n",
        "      if f<funObj:\n",
        "        print(f)\n",
        "        funObj= f\n",
        "      if f>=funObj:\n",
        "        seqC[j]= seq[j]\n",
        "        seqC[index]= seq[index]\n",
        "\n",
        "\n",
        "  return funObj, seqC\n",
        "\n",
        "intercambioOrdenTareas(seq,Vn,10,1000 ,5000)"
      ]
    },
    {
      "cell_type": "code",
      "source": [
        "def arregla(lista):\n",
        "  return [i for i in lista]"
      ],
      "metadata": {
        "id": "funBxUq63bKO"
      },
      "execution_count": null,
      "outputs": []
    },
    {
      "cell_type": "code",
      "source": [
        "def escogerMejoresPoblacion(listSeq,listfunObjs, nMejores):\n",
        "  mejoresObj, mejoresSeq= zip(*sorted(zip(listfunObjs,listSeq))) \n",
        "  objPoblacion= list(mejoresObj)[0:nMejores]\n",
        "  seqPoblacion= list(mejoresSeq)[0:nMejores]\n",
        "  return objPoblacion, seqPoblacion"
      ],
      "metadata": {
        "id": "HZUyixoZ-DGm"
      },
      "execution_count": null,
      "outputs": []
    },
    {
      "cell_type": "code",
      "source": [
        "def path_relinking(seq, funObj, numPoblacion, n , maxIteraciones,UB):\n",
        "\n",
        "  listSeq,listfunObjs= generateFunAleatorias(n,UB)\n",
        "  objPoblacion ,seqPoblacion= escogerMejoresPoblacion(listSeq,listfunObjs,numPoblacion-1)\n",
        "  objPoblacion.append(funObj)\n",
        "  seqPoblacion.append(seq)\n",
        "\n",
        "  print(objPoblacion[np.argmin(objPoblacion)])\n",
        "\n",
        "  for i in tqdm(range(maxIteraciones)):\n",
        "    solAleatorias= sample([x for x in range(len(seqPoblacion))],2)\n",
        "    seqCaminos=[]\n",
        "    objCaminos=[]\n",
        "    seq1= seqPoblacion[solAleatorias[0]]\n",
        "    seq2= seqPoblacion[solAleatorias[1]]\n",
        "\n",
        "    for j in range(len(seq1)):\n",
        "      indice= seq1.index(seq2[j])\n",
        "      aux= seq1[j]\n",
        "      seq1[j] = seq2[j]\n",
        "      seq1[indice] = aux\n",
        "      aux2= arregla(seq1)\n",
        "      if aux2!=seq2:\n",
        "        seqCaminos.append(aux2)\n",
        "        f,_,_ = two_level_split(aux2,jobs,numMaq,maq,UB)\n",
        "        objCaminos.append(f)\n",
        "    indiceMejor= np.argmin(objCaminos)\n",
        "    mejorObjCamino= objCaminos[indiceMejor]\n",
        "    mejorSeqCamino= seqCaminos[indiceMejor]\n",
        "    objPoblacion.append(mejorObjCamino)\n",
        "    seqPoblacion.append(mejorSeqCamino)\n",
        "    objPoblacion, seqPoblacion = escogerMejoresPoblacion(seqPoblacion,objPoblacion,numPoblacion)\n",
        "\n",
        "\n",
        "  return objPoblacion[0], seqPoblacion[0]\n",
        "path_relinking(seq,Vn,10,1000,3,5000)"
      ],
      "metadata": {
        "colab": {
          "base_uri": "https://localhost:8080/",
          "height": 432
        },
        "id": "U4VYzKyKpupl",
        "outputId": "d73179b2-5152-499d-ae50-ef3a169d0a45"
      },
      "execution_count": null,
      "outputs": [
        {
          "output_type": "stream",
          "name": "stderr",
          "text": [
            "100%|██████████| 1000/1000 [05:32<00:00,  3.01it/s]\n"
          ]
        },
        {
          "output_type": "stream",
          "name": "stdout",
          "text": [
            "1697.0\n"
          ]
        },
        {
          "output_type": "stream",
          "name": "stderr",
          "text": [
            "  0%|          | 0/3 [00:00<?, ?it/s]\n"
          ]
        },
        {
          "output_type": "error",
          "ename": "ValueError",
          "evalue": "ignored",
          "traceback": [
            "\u001b[0;31m---------------------------------------------------------------------------\u001b[0m",
            "\u001b[0;31mValueError\u001b[0m                                Traceback (most recent call last)",
            "\u001b[0;32m<ipython-input-157-4506746620e7>\u001b[0m in \u001b[0;36m<module>\u001b[0;34m\u001b[0m\n\u001b[1;32m     34\u001b[0m \u001b[0;34m\u001b[0m\u001b[0m\n\u001b[1;32m     35\u001b[0m   \u001b[0;32mreturn\u001b[0m \u001b[0mobjPoblacion\u001b[0m\u001b[0;34m[\u001b[0m\u001b[0;36m0\u001b[0m\u001b[0;34m]\u001b[0m\u001b[0;34m,\u001b[0m \u001b[0mseqPoblacion\u001b[0m\u001b[0;34m[\u001b[0m\u001b[0;36m0\u001b[0m\u001b[0;34m]\u001b[0m\u001b[0;34m\u001b[0m\u001b[0;34m\u001b[0m\u001b[0m\n\u001b[0;32m---> 36\u001b[0;31m \u001b[0mpath_relinking\u001b[0m\u001b[0;34m(\u001b[0m\u001b[0mseq\u001b[0m\u001b[0;34m,\u001b[0m\u001b[0mVn\u001b[0m\u001b[0;34m,\u001b[0m\u001b[0;36m10\u001b[0m\u001b[0;34m,\u001b[0m\u001b[0;36m1000\u001b[0m\u001b[0;34m,\u001b[0m\u001b[0;36m3\u001b[0m\u001b[0;34m,\u001b[0m\u001b[0;36m5000\u001b[0m\u001b[0;34m)\u001b[0m\u001b[0;34m\u001b[0m\u001b[0;34m\u001b[0m\u001b[0m\n\u001b[0m",
            "\u001b[0;32m<ipython-input-157-4506746620e7>\u001b[0m in \u001b[0;36mpath_relinking\u001b[0;34m(seq, funObj, numPoblacion, n, maxIteraciones, UB)\u001b[0m\n\u001b[1;32m     25\u001b[0m         \u001b[0mf\u001b[0m\u001b[0;34m,\u001b[0m\u001b[0m_\u001b[0m\u001b[0;34m,\u001b[0m\u001b[0m_\u001b[0m \u001b[0;34m=\u001b[0m \u001b[0mtwo_level_split\u001b[0m\u001b[0;34m(\u001b[0m\u001b[0maux2\u001b[0m\u001b[0;34m,\u001b[0m\u001b[0mjobs\u001b[0m\u001b[0;34m,\u001b[0m\u001b[0mnumMaq\u001b[0m\u001b[0;34m,\u001b[0m\u001b[0mmaq\u001b[0m\u001b[0;34m,\u001b[0m\u001b[0mUB\u001b[0m\u001b[0;34m)\u001b[0m\u001b[0;34m\u001b[0m\u001b[0;34m\u001b[0m\u001b[0m\n\u001b[1;32m     26\u001b[0m         \u001b[0mobjCaminos\u001b[0m\u001b[0;34m.\u001b[0m\u001b[0mappend\u001b[0m\u001b[0;34m(\u001b[0m\u001b[0mf\u001b[0m\u001b[0;34m)\u001b[0m\u001b[0;34m\u001b[0m\u001b[0;34m\u001b[0m\u001b[0m\n\u001b[0;32m---> 27\u001b[0;31m     \u001b[0mindiceMejor\u001b[0m\u001b[0;34m=\u001b[0m \u001b[0mnp\u001b[0m\u001b[0;34m.\u001b[0m\u001b[0margmin\u001b[0m\u001b[0;34m(\u001b[0m\u001b[0mobjCaminos\u001b[0m\u001b[0;34m)\u001b[0m\u001b[0;34m\u001b[0m\u001b[0;34m\u001b[0m\u001b[0m\n\u001b[0m\u001b[1;32m     28\u001b[0m     \u001b[0mmejorObjCamino\u001b[0m\u001b[0;34m=\u001b[0m \u001b[0mobjCaminos\u001b[0m\u001b[0;34m[\u001b[0m\u001b[0mindiceMejor\u001b[0m\u001b[0;34m]\u001b[0m\u001b[0;34m\u001b[0m\u001b[0;34m\u001b[0m\u001b[0m\n\u001b[1;32m     29\u001b[0m     \u001b[0mmejorSeqCamino\u001b[0m\u001b[0;34m=\u001b[0m \u001b[0mseqCaminos\u001b[0m\u001b[0;34m[\u001b[0m\u001b[0mindiceMejor\u001b[0m\u001b[0;34m]\u001b[0m\u001b[0;34m\u001b[0m\u001b[0;34m\u001b[0m\u001b[0m\n",
            "\u001b[0;32m<__array_function__ internals>\u001b[0m in \u001b[0;36margmin\u001b[0;34m(*args, **kwargs)\u001b[0m\n",
            "\u001b[0;32m/usr/local/lib/python3.7/dist-packages/numpy/core/fromnumeric.py\u001b[0m in \u001b[0;36margmin\u001b[0;34m(a, axis, out)\u001b[0m\n\u001b[1;32m   1274\u001b[0m \u001b[0;34m\u001b[0m\u001b[0m\n\u001b[1;32m   1275\u001b[0m     \"\"\"\n\u001b[0;32m-> 1276\u001b[0;31m     \u001b[0;32mreturn\u001b[0m \u001b[0m_wrapfunc\u001b[0m\u001b[0;34m(\u001b[0m\u001b[0ma\u001b[0m\u001b[0;34m,\u001b[0m \u001b[0;34m'argmin'\u001b[0m\u001b[0;34m,\u001b[0m \u001b[0maxis\u001b[0m\u001b[0;34m=\u001b[0m\u001b[0maxis\u001b[0m\u001b[0;34m,\u001b[0m \u001b[0mout\u001b[0m\u001b[0;34m=\u001b[0m\u001b[0mout\u001b[0m\u001b[0;34m)\u001b[0m\u001b[0;34m\u001b[0m\u001b[0;34m\u001b[0m\u001b[0m\n\u001b[0m\u001b[1;32m   1277\u001b[0m \u001b[0;34m\u001b[0m\u001b[0m\n\u001b[1;32m   1278\u001b[0m \u001b[0;34m\u001b[0m\u001b[0m\n",
            "\u001b[0;32m/usr/local/lib/python3.7/dist-packages/numpy/core/fromnumeric.py\u001b[0m in \u001b[0;36m_wrapfunc\u001b[0;34m(obj, method, *args, **kwds)\u001b[0m\n\u001b[1;32m     52\u001b[0m     \u001b[0mbound\u001b[0m \u001b[0;34m=\u001b[0m \u001b[0mgetattr\u001b[0m\u001b[0;34m(\u001b[0m\u001b[0mobj\u001b[0m\u001b[0;34m,\u001b[0m \u001b[0mmethod\u001b[0m\u001b[0;34m,\u001b[0m \u001b[0;32mNone\u001b[0m\u001b[0;34m)\u001b[0m\u001b[0;34m\u001b[0m\u001b[0;34m\u001b[0m\u001b[0m\n\u001b[1;32m     53\u001b[0m     \u001b[0;32mif\u001b[0m \u001b[0mbound\u001b[0m \u001b[0;32mis\u001b[0m \u001b[0;32mNone\u001b[0m\u001b[0;34m:\u001b[0m\u001b[0;34m\u001b[0m\u001b[0;34m\u001b[0m\u001b[0m\n\u001b[0;32m---> 54\u001b[0;31m         \u001b[0;32mreturn\u001b[0m \u001b[0m_wrapit\u001b[0m\u001b[0;34m(\u001b[0m\u001b[0mobj\u001b[0m\u001b[0;34m,\u001b[0m \u001b[0mmethod\u001b[0m\u001b[0;34m,\u001b[0m \u001b[0;34m*\u001b[0m\u001b[0margs\u001b[0m\u001b[0;34m,\u001b[0m \u001b[0;34m**\u001b[0m\u001b[0mkwds\u001b[0m\u001b[0;34m)\u001b[0m\u001b[0;34m\u001b[0m\u001b[0;34m\u001b[0m\u001b[0m\n\u001b[0m\u001b[1;32m     55\u001b[0m \u001b[0;34m\u001b[0m\u001b[0m\n\u001b[1;32m     56\u001b[0m     \u001b[0;32mtry\u001b[0m\u001b[0;34m:\u001b[0m\u001b[0;34m\u001b[0m\u001b[0;34m\u001b[0m\u001b[0m\n",
            "\u001b[0;32m/usr/local/lib/python3.7/dist-packages/numpy/core/fromnumeric.py\u001b[0m in \u001b[0;36m_wrapit\u001b[0;34m(obj, method, *args, **kwds)\u001b[0m\n\u001b[1;32m     41\u001b[0m     \u001b[0;32mexcept\u001b[0m \u001b[0mAttributeError\u001b[0m\u001b[0;34m:\u001b[0m\u001b[0;34m\u001b[0m\u001b[0;34m\u001b[0m\u001b[0m\n\u001b[1;32m     42\u001b[0m         \u001b[0mwrap\u001b[0m \u001b[0;34m=\u001b[0m \u001b[0;32mNone\u001b[0m\u001b[0;34m\u001b[0m\u001b[0;34m\u001b[0m\u001b[0m\n\u001b[0;32m---> 43\u001b[0;31m     \u001b[0mresult\u001b[0m \u001b[0;34m=\u001b[0m \u001b[0mgetattr\u001b[0m\u001b[0;34m(\u001b[0m\u001b[0masarray\u001b[0m\u001b[0;34m(\u001b[0m\u001b[0mobj\u001b[0m\u001b[0;34m)\u001b[0m\u001b[0;34m,\u001b[0m \u001b[0mmethod\u001b[0m\u001b[0;34m)\u001b[0m\u001b[0;34m(\u001b[0m\u001b[0;34m*\u001b[0m\u001b[0margs\u001b[0m\u001b[0;34m,\u001b[0m \u001b[0;34m**\u001b[0m\u001b[0mkwds\u001b[0m\u001b[0;34m)\u001b[0m\u001b[0;34m\u001b[0m\u001b[0;34m\u001b[0m\u001b[0m\n\u001b[0m\u001b[1;32m     44\u001b[0m     \u001b[0;32mif\u001b[0m \u001b[0mwrap\u001b[0m\u001b[0;34m:\u001b[0m\u001b[0;34m\u001b[0m\u001b[0;34m\u001b[0m\u001b[0m\n\u001b[1;32m     45\u001b[0m         \u001b[0;32mif\u001b[0m \u001b[0;32mnot\u001b[0m \u001b[0misinstance\u001b[0m\u001b[0;34m(\u001b[0m\u001b[0mresult\u001b[0m\u001b[0;34m,\u001b[0m \u001b[0mmu\u001b[0m\u001b[0;34m.\u001b[0m\u001b[0mndarray\u001b[0m\u001b[0;34m)\u001b[0m\u001b[0;34m:\u001b[0m\u001b[0;34m\u001b[0m\u001b[0;34m\u001b[0m\u001b[0m\n",
            "\u001b[0;31mValueError\u001b[0m: attempt to get argmin of an empty sequence"
          ]
        }
      ]
    }
  ],
  "metadata": {
    "colab": {
      "collapsed_sections": [],
      "provenance": [],
      "include_colab_link": true
    },
    "kernelspec": {
      "display_name": "Python 3",
      "name": "python3"
    },
    "language_info": {
      "name": "python"
    }
  },
  "nbformat": 4,
  "nbformat_minor": 0
}